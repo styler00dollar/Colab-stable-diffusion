{
  "nbformat": 4,
  "nbformat_minor": 0,
  "metadata": {
    "colab": {
      "private_outputs": true,
      "provenance": [],
      "collapsed_sections": [],
      "machine_shape": "hm"
    },
    "kernelspec": {
      "name": "python3",
      "display_name": "Python 3"
    },
    "language_info": {
      "name": "python"
    },
    "accelerator": "GPU",
    "gpuClass": "standard"
  },
  "cells": [
    {
      "cell_type": "markdown",
      "source": [
        "# Colab-stable-diffusion\n",
        "\n",
        "Warning: Only works with High-Ram instance, since it needs more than 11GB ram. You also need an account to download the v1.4 model from [here](https://huggingface.co/CompVis/stable-diffusion-v1-4).\n",
        "\n",
        "My fork: [styler00dollar/Colab-stable-diffusion](https://github.com/styler00dollar/Colab-stable-diffusion)\n",
        "\n",
        "Repo: [lstein/stable-diffusion](https://github.com/lstein/stable-diffusion)"
      ],
      "metadata": {
        "id": "MTB_JCJJKpxQ"
      }
    },
    {
      "cell_type": "code",
      "source": [
        "!nvidia-smi"
      ],
      "metadata": {
        "id": "IZDtl4M9Aa0a"
      },
      "execution_count": null,
      "outputs": []
    },
    {
      "cell_type": "code",
      "source": [
        "#@title Mount Google Drive\n",
        "from google.colab import drive\n",
        "drive.mount('/content/drive',force_remount=True)"
      ],
      "metadata": {
        "cellView": "form",
        "id": "IutTwcc1rcY4"
      },
      "execution_count": null,
      "outputs": []
    },
    {
      "cell_type": "code",
      "execution_count": null,
      "metadata": {
        "id": "ikckeIWw_0Td",
        "cellView": "form"
      },
      "outputs": [],
      "source": [
        "#@title install\n",
        "%cd /content\n",
        "!git clone https://github.com/styler00dollar/Colab-stable-diffusion stable-diffusion\n",
        "!pip install transformers kornia pytorch_lightning omegaconf einops jsonmerge clip resize_right torchdiffeq accelerate\n",
        "%cd /content/stable-diffusion\n",
        "!python3 scripts/preload_models.py\n",
        "!mkdir -p /content/stable-diffusion/models/ldm/text2img-large/\n",
        "%cd /content/stable-diffusion/models/ldm/text2img-large/\n",
        "# old model\n",
        "#!wget https://ommer-lab.com/files/latent-diffusion/nitro/txt2img-f8-large/model.ckpt\n",
        "\n",
        "%cd /content/stable-diffusion/\n",
        "!git clone https://github.com/crowsonkb/k-diffusion\n",
        "!mv /content/stable-diffusion/k-diffusion/k_diffusion /content/stable-diffusion\n",
        "!rm -rf /content/stable-diffusion/k-diffusion\n",
        "\n",
        "!git clone https://github.com/GaParmar/clean-fid\n",
        "!mv /content/stable-diffusion/clean-fid/cleanfid /content/stable-diffusion\n",
        "!rm -rf /content/stable-diffusion/clean-fid/\n",
        "\n",
        "!git clone https://github.com/CompVis/taming-transformers\n",
        "!mv /content/stable-diffusion/taming-transformers/taming /content/stable-diffusion\n",
        "!rm -rf /content/stable-diffusion/taming-transformers/\n",
        "\n",
        "!cp /content/stable-diffusion/scripts/orig_scripts/img2img.py /content/stable-diffusion/img2img.py\n",
        "!cp /content/stable-diffusion/scripts/orig_scripts/txt2img.py /content/stable-diffusion/txt2img.py"
      ]
    },
    {
      "cell_type": "code",
      "source": [
        "# copy stable diffusion checkpoint (download from https://huggingface.co/CompVis/stable-diffusion-v1-4)\n",
        "!mkdir -p /content/stable-diffusion/models/ldm/stable-diffusion-v1/\n",
        "!cp /content/drive/MyDrive/MODELS/sd-v1-4.ckpt /content/stable-diffusion/models/ldm/stable-diffusion-v1/model.ckpt"
      ],
      "metadata": {
        "id": "UgnlcCY5rV4u"
      },
      "execution_count": null,
      "outputs": []
    },
    {
      "cell_type": "code",
      "source": [
        "# download waifu diffusion\n",
        "!mkdir -p /content/stable-diffusion/models/ldm/stable-diffusion-v1/\n",
        "%cd /content/stable-diffusion/models/ldm/stable-diffusion-v1/\n",
        "!wget https://thisanimedoesnotexist.ai/downloads/wd-v1-2-full-ema.ckpt\n",
        "!mv /content/stable-diffusion/models/ldm/stable-diffusion-v1/wd-v1-2-full-ema.ckpt /content/stable-diffusion/models/ldm/stable-diffusion-v1/model.ckpt"
      ],
      "metadata": {
        "id": "F9vT6glCeiFD"
      },
      "execution_count": null,
      "outputs": []
    },
    {
      "cell_type": "code",
      "source": [
        "%cd /content/stable-diffusion\n",
        "# example input:\n",
        "#\"anime girl at the beach taking pictures of the eifel tower | pixiv wallpaper drawing\" --width 704 --height 704 --steps 50 -b 1\n",
        "!PYTHONPATH=\"/content/stable-diffusion\" python3 scripts/dream.py --sampler plms"
      ],
      "metadata": {
        "id": "qEehs--qAagU"
      },
      "execution_count": null,
      "outputs": []
    },
    {
      "cell_type": "code",
      "source": [
        "%cd /content/stable-diffusion\n",
        "!python img2img.py --prompt \"hachikuji mayoi by amedeo modigliani\" --init-img \"/content/00008.png\" --strength 0.4"
      ],
      "metadata": {
        "id": "Of8ofjwh-Z7T"
      },
      "execution_count": null,
      "outputs": []
    },
    {
      "cell_type": "code",
      "source": [
        "%cd /content/stable-diffusion\n",
        "!python txt2img.py --prompt \"anime girl on the beach | pixiv hd wallpaper\" --plms --ddim_steps 100 --H 512 --W 512"
      ],
      "metadata": {
        "id": "zxj1NogF-cH5"
      },
      "execution_count": null,
      "outputs": []
    }
  ]
}
