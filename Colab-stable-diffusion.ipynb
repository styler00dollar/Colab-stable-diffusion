{
  "nbformat": 4,
  "nbformat_minor": 0,
  "metadata": {
    "colab": {
      "name": "Colab-stable-diffusion.ipynb",
      "private_outputs": true,
      "provenance": [],
      "collapsed_sections": [],
      "machine_shape": "hm"
    },
    "kernelspec": {
      "name": "python3",
      "display_name": "Python 3"
    },
    "language_info": {
      "name": "python"
    },
    "accelerator": "GPU",
    "gpuClass": "standard"
  },
  "cells": [
    {
      "cell_type": "markdown",
      "source": [
        "# Colab-stable-diffusion\n",
        "\n",
        "Warning: Only works with High-Ram instance, since it needs more than 11GB ram. Currently also waiting for official weights to release. The current public weights are bad.\n",
        "\n",
        "My fork: [styler00dollar/Colab-stable-diffusion](https://github.com/styler00dollar/Colab-stable-diffusion)\n",
        "\n",
        "Repo: [lstein/stable-diffusion](https://github.com/lstein/stable-diffusion)"
      ],
      "metadata": {
        "id": "MTB_JCJJKpxQ"
      }
    },
    {
      "cell_type": "code",
      "source": [
        "!nvidia-smi"
      ],
      "metadata": {
        "id": "IZDtl4M9Aa0a"
      },
      "execution_count": null,
      "outputs": []
    },
    {
      "cell_type": "code",
      "execution_count": null,
      "metadata": {
        "id": "ikckeIWw_0Td",
        "cellView": "form"
      },
      "outputs": [],
      "source": [
        "#@title install\n",
        "%cd /content\n",
        "!git clone https://github.com/lstein/stable-diffusion\n",
        "!pip install transformers kornia pytorch_lightning omegaconf einops jsonmerge clip resize_right torchdiffeq accelerate\n",
        "%cd stable-diffusion \n",
        "!python3 scripts/preload_models.py\n",
        "!mkdir -p /content/stable-diffusion/models/ldm/text2img-large/\n",
        "%cd /content/stable-diffusion/models/ldm/text2img-large/\n",
        "!wget https://ommer-lab.com/files/latent-diffusion/nitro/txt2img-f8-large/model.ckpt\n",
        "\n",
        "%cd /content/stable-diffusion/\n",
        "!git clone https://github.com/crowsonkb/k-diffusion\n",
        "!mv /content/stable-diffusion/k-diffusion/k_diffusion /content/stable-diffusion\n",
        "!rm -rf /content/stable-diffusion/k-diffusion\n",
        "\n",
        "!git clone https://github.com/GaParmar/clean-fid\n",
        "!mv /content/stable-diffusion/clean-fid/cleanfid /content/stable-diffusion\n",
        "!rm -rf /content/stable-diffusion/clean-fid/\n",
        "\n",
        "!git clone https://github.com/CompVis/taming-transformers\n",
        "!mv /content/stable-diffusion/taming-transformers/taming /content/stable-diffusion\n",
        "!rm -rf /content/stable-diffusion/taming-transformers/"
      ]
    },
    {
      "cell_type": "code",
      "source": [
        "%cd /content/stable-diffusion\n",
        "!python3 scripts/dream.py -l"
      ],
      "metadata": {
        "id": "qEehs--qAagU"
      },
      "execution_count": null,
      "outputs": []
    }
  ]
}